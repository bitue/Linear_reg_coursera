{
  "nbformat": 4,
  "nbformat_minor": 0,
  "metadata": {
    "colab": {
      "provenance": [],
      "include_colab_link": true
    },
    "kernelspec": {
      "name": "python3",
      "display_name": "Python 3"
    },
    "language_info": {
      "name": "python"
    }
  },
  "cells": [
    {
      "cell_type": "markdown",
      "metadata": {
        "id": "view-in-github",
        "colab_type": "text"
      },
      "source": [
        "<a href=\"https://colab.research.google.com/github/bitue/Linear_reg_coursera/blob/master/sen.ipynb\" target=\"_parent\"><img src=\"https://colab.research.google.com/assets/colab-badge.svg\" alt=\"Open In Colab\"/></a>"
      ]
    },
    {
      "cell_type": "code",
      "execution_count": null,
      "metadata": {
        "id": "dT1e_wAqqJHy"
      },
      "outputs": [],
      "source": []
    },
    {
      "cell_type": "code",
      "source": [
        "import pandas as pd\n"
      ],
      "metadata": {
        "id": "igE4BKrSqtzB"
      },
      "execution_count": null,
      "outputs": []
    },
    {
      "cell_type": "code",
      "source": [
        "from itertools import combinations\n"
      ],
      "metadata": {
        "id": "Xwv4rtKNrZn1"
      },
      "execution_count": null,
      "outputs": []
    },
    {
      "cell_type": "code",
      "source": [
        "# Step 1: Load the CSV file and calculate individual item support\n",
        "\n",
        "# dic = {\n",
        "#     \"A\" : 1,\n",
        "#     \"B\" : 3,\n",
        "\n",
        "# }\n",
        "\n",
        "# for key, value in dic.items():\n",
        "#   print(key, value)\n",
        "# dic[a]= dic[a]++\n",
        "\n",
        "\n",
        "\n",
        "def calculate_support(csv_file):\n",
        "    data = pd.read_csv(csv_file)\n",
        "    # print(data, \"-----------------------\")\n",
        "    item_counts = {} # dictionary\n",
        "    total_transactions = len(data)\n",
        "\n",
        "    # print(data['transaction'])\n",
        "\n",
        "\n",
        "\n",
        "    # Iterate over each transaction and count items\n",
        "    for transaction in data['transaction']:\n",
        "\n",
        "        items = transaction.split(',')\n",
        "        # print(items)\n",
        "\n",
        "\n",
        "        for item in items:\n",
        "            item = item.strip()\n",
        "            if item in item_counts:\n",
        "                item_counts[item] += 1\n",
        "            else:\n",
        "                item_counts[item] = 1\n",
        "\n",
        "\n",
        "    # print(item_counts)\n",
        "    # support = {item: count / total_transactions for item, count in item_counts.items()}\n",
        "    support = {}\n",
        "    for item , count in item_counts.items():\n",
        "      support[item] = count / total_transactions\n",
        "    # print(support)\n",
        "    return support, data\n",
        "\n",
        "\n",
        "\n",
        "\n",
        "\n",
        "\n",
        "\n",
        "\n"
      ],
      "metadata": {
        "id": "2W4m2MO9rhEe"
      },
      "execution_count": null,
      "outputs": []
    },
    {
      "cell_type": "code",
      "source": [
        "# support, data = calculate_support('/content/drive/MyDrive/Sen-cv /transactions.csv')\n",
        "# print(support, \"----------------------------------------------\")"
      ],
      "metadata": {
        "colab": {
          "base_uri": "https://localhost:8080/"
        },
        "id": "ka4Awq5ur0cH",
        "outputId": "9a4b6a72-23a2-4750-874e-e10e769dd1a5"
      },
      "execution_count": null,
      "outputs": [
        {
          "output_type": "stream",
          "name": "stdout",
          "text": [
            "{\"A Beginner's Guide\": 0.55, 'Java: The Complete Reference': 0.5, 'Java For Dummies': 0.65, 'Android Programming: The Big Nerd Ranch': 0.65, 'Head First Java 2nd Edition': 0.4, 'Beginning Programming with Java': 0.3, 'Java 8 Pocket Guide': 0.2, 'C++ Programming in Easy Steps': 0.05, 'HTML and CSS: Design and Build Websites': 0.1} ----------------------------------------------\n"
          ]
        }
      ]
    },
    {
      "cell_type": "code",
      "source": [
        "# print(support)\n",
        "\n",
        "# Step 2: Filter itemsets with support >= 0.50\n",
        "# def filter_itemsets(support):\n",
        "#     return [item for item, sup in support.items() if sup >= 0.50]\n",
        "\n",
        "# # filtered_items = []\n",
        "\n",
        "# filtered_support ={}\n",
        "\n",
        "# for item, sup in support.items():\n",
        "\n",
        "#     if sup >= 0.50:\n",
        "#         filtered_items.append(item)\n",
        "#         filtered_support[item] = sup\n",
        "\n",
        "\n",
        "# list.append(items) to add items to list\n",
        "# print(filtered_items)\n",
        "# print(filtered_items)\n",
        "# print(filtered_support)\n",
        "\n",
        "# Step 2: Filter itemsets with support >= 0.50\n",
        "def filter_itemsets(support):\n",
        "    return [item for item, sup in support.items() if sup >= 0.50]\n",
        "\n"
      ],
      "metadata": {
        "id": "GbFfLZgBr5_5"
      },
      "execution_count": null,
      "outputs": []
    },
    {
      "cell_type": "code",
      "source": [
        "from itertools import combinations\n"
      ],
      "metadata": {
        "id": "nUoPqXocIto0"
      },
      "execution_count": null,
      "outputs": []
    },
    {
      "cell_type": "code",
      "source": [
        "\n",
        "\n",
        "# Step 3: Generate combinations of items and calculate support\n",
        "def calculate_combination_support(data, filtered_itemset):\n",
        "    transactions = data['transaction'].apply(lambda x: set([item.strip() for item in x.split(',')])).tolist()\n",
        "    total_transactions = len(transactions)\n",
        "\n",
        "    k = 2  # Starting with 2-item combinations\n",
        "    while len(filtered_itemset) > 1:\n",
        "        comb_support = {}\n",
        "        combs = list(combinations(filtered_itemset, k))\n",
        "\n",
        "        # Calculate support for each combination\n",
        "        for comb in combs:\n",
        "            count = sum(1 for transaction in transactions if set(comb).issubset(transaction))\n",
        "            support = count / total_transactions\n",
        "            if support > 0.5:\n",
        "                comb_support[comb] = support\n",
        "\n",
        "        # If we have no combinations left, break\n",
        "        if not comb_support:\n",
        "            print(\"No combinations left with support > 0.5\")\n",
        "            break\n",
        "\n",
        "        # Print the support values of current combinations\n",
        "        print(f\"Support values for {k}-item combinations: {comb_support}\")\n",
        "\n",
        "        # Filter out the items based on support\n",
        "        filtered_itemset = set(item for comb in comb_support.keys() for item in comb)\n",
        "\n",
        "        # If only one combination is left, stop\n",
        "        if len(filtered_itemset) <= k:\n",
        "            print(\"Only one combination is left. Breaking loop.\")\n",
        "            break\n",
        "\n",
        "        k += 1  # Move to the next combination size\n",
        "\n",
        "    return comb_support\n",
        "\n",
        "# Step 4: Calculate confidence for the remaining itemset\n",
        "def calculate_confidence(combination_support, support_values):\n",
        "    confidence = {}\n",
        "    for comb, support_AB in combination_support.items():\n",
        "        for r in range(1, len(comb)):\n",
        "            for antecedent in combinations(comb, r):\n",
        "                consequent = tuple(set(comb) - set(antecedent))\n",
        "\n",
        "                # Handle single-item antecedent lookup\n",
        "                if len(antecedent) == 1:\n",
        "                    antecedent_support = support_values[antecedent[0]]\n",
        "                else:\n",
        "                    antecedent_support = combination_support.get(antecedent, 0)\n",
        "\n",
        "                # Calculate confidence only if antecedent support is available\n",
        "                if antecedent_support > 0:\n",
        "                    conf = support_AB / antecedent_support\n",
        "                    confidence[(antecedent, consequent)] = conf\n",
        "\n",
        "    return confidence\n",
        "\n",
        "# Step 5: Load CSV and calculate individual item support\n",
        "def calculate_support(csv_file):\n",
        "    data = pd.read_csv(csv_file)\n",
        "    item_counts = {}\n",
        "    total_transactions = len(data)\n",
        "\n",
        "    # Iterate over each transaction and count items\n",
        "    for transaction in data['transaction']:\n",
        "        items = transaction.split(',')\n",
        "        for item in items:\n",
        "            item = item.strip()\n",
        "            if item in item_counts:\n",
        "                item_counts[item] += 1\n",
        "            else:\n",
        "                item_counts[item] = 1\n",
        "\n",
        "    # Calculate the support for each item\n",
        "    support = {item: count / total_transactions for item, count in item_counts.items()}\n",
        "    return support, data\n",
        "\n",
        "# Step 6: Main function to run the process\n",
        "def calculate_support_and_confidence(csv_file):\n",
        "    # Load data and calculate individual item support\n",
        "    support_values, data = calculate_support(csv_file)\n",
        "\n",
        "    # Filter items with support >= 0.50\n",
        "    filtered_itemset = [item for item, sup in support_values.items() if sup > 0.5]\n",
        "\n",
        "    # Calculate support for combinations\n",
        "    combination_support_values = calculate_combination_support(data, filtered_itemset)\n",
        "\n",
        "    # Calculate confidence for each rule\n",
        "    confidence_values = calculate_confidence(combination_support_values, support_values)\n",
        "\n",
        "    # Print the confidence results\n",
        "    print(\"\\nConfidence values for association rules:\")\n",
        "    for (antecedent, consequent), confidence_value in confidence_values.items():\n",
        "        print(f\"Confidence {antecedent} → {consequent}: {confidence_value:.2f}\")\n",
        "\n",
        "# Example usage:\n",
        "csv_file = '/content/drive/MyDrive/Sen-cv /transaction_data_fixed.csv'  # Replace with the path to your CSV file\n",
        "calculate_support_and_confidence(csv_file)"
      ],
      "metadata": {
        "colab": {
          "base_uri": "https://localhost:8080/"
        },
        "id": "xqQbSF_drWEn",
        "outputId": "ed4e4e24-bb03-41f5-aedd-b7728ff1a2d7"
      },
      "execution_count": null,
      "outputs": [
        {
          "output_type": "stream",
          "name": "stdout",
          "text": [
            "Support values for 2-item combinations: {('pear', 'fig'): 0.625, ('pear', 'water'): 0.625}\n",
            "No combinations left with support > 0.5\n",
            "\n",
            "Confidence values for association rules:\n"
          ]
        }
      ]
    },
    {
      "cell_type": "code",
      "source": [],
      "metadata": {
        "id": "YAoinIoprWAv"
      },
      "execution_count": null,
      "outputs": []
    },
    {
      "cell_type": "code",
      "source": [],
      "metadata": {
        "id": "LPag5ksCrV-m"
      },
      "execution_count": null,
      "outputs": []
    },
    {
      "cell_type": "code",
      "source": [],
      "metadata": {
        "id": "-eU1SVJHrV8O"
      },
      "execution_count": null,
      "outputs": []
    },
    {
      "cell_type": "code",
      "source": [],
      "metadata": {
        "id": "WznXlSLsrV5r"
      },
      "execution_count": null,
      "outputs": []
    },
    {
      "cell_type": "code",
      "source": [],
      "metadata": {
        "id": "d-HgKB_7rV3R"
      },
      "execution_count": null,
      "outputs": []
    },
    {
      "cell_type": "code",
      "source": [
        "# Step 3: Generate combinations of any size and calculate support\n",
        "def calculate_combination_support(data, filtered_itemset):\n",
        "    transactions = data['transaction'].apply(lambda x: set(x) if isinstance(x, set) else set([item.strip() for item in x.split(',')])).tolist()\n",
        "\n",
        "\n",
        "    total_transactions = len(transactions)\n",
        "\n",
        "    comb_support = {}\n",
        "    max_itemset_length = len(filtered_itemset)\n",
        "    # print(max_itemset_length)\n",
        "    li =[]\n",
        "\n",
        "    # Generate all possible item combinations from size 2 up to the max itemset size\n",
        "    for r in range(2, max_itemset_length + 1):\n",
        "        combs = list(combinations(filtered_itemset, r))\n",
        "        # print(combs)\n",
        "        for comb in combs:\n",
        "            count = sum(1 for transaction in transactions if set(comb).issubset(transaction))\n",
        "            support = count / total_transactions\n",
        "            # comb_support[comb] = support\n",
        "\n",
        "            if support >= 0.50 :\n",
        "              comb_support[comb] = support\n",
        "              # li.append(support)\n",
        "\n",
        "\n",
        "    # print(li, \"--------------------------\")\n",
        "\n",
        "    # print(comb_support)\n",
        "\n",
        "    return comb_support\n",
        "\n",
        "\n",
        "\n",
        "comb_sup = calculate_combination_support(data, filtered_items)"
      ],
      "metadata": {
        "id": "VqhkrR5uItmp"
      },
      "execution_count": null,
      "outputs": []
    },
    {
      "cell_type": "code",
      "source": [
        "def calculate_confidence(combination_support, support_values):\n",
        "    confidence = {}  # This will store the confidence of each rule\n",
        "\n",
        "    # Loop through each combination and its support value\n",
        "    for comb, support_AB in combination_support.items():\n",
        "\n",
        "        # For each combination (e.g., A, B, C), try to split into antecedent and consequent\n",
        "        for r in range(1, len(comb)):\n",
        "\n",
        "            # Generate all possible antecedents of size 'r'\n",
        "            for antecedent in combinations(comb, r):\n",
        "                # Consequent is what's left after removing antecedent from comb\n",
        "                consequent = tuple(set(comb) - set(antecedent))\n",
        "\n",
        "                # Handle single-item antecedents using support_values dictionary\n",
        "                if len(antecedent) == 1:\n",
        "                    antecedent_support = support_values[antecedent[0]]\n",
        "                else:\n",
        "                    # For multi-item antecedents, get the support from the combination support\n",
        "                    antecedent_support = combination_support.get(antecedent, 0)\n",
        "\n",
        "                # Calculate confidence only if antecedent support is greater than 0\n",
        "                if antecedent_support > 0:\n",
        "                    conf = support_AB / antecedent_support  # Confidence = Support(A ∪ B) / Support(A)\n",
        "                    confidence[(antecedent, consequent)] = conf  # Store the result\n",
        "\n",
        "    return confidence  # Return the confidence dictionary\n",
        "\n",
        "\n",
        "con = calculate_confidence(comb_sup, filtered_support)\n",
        "\n",
        "print(con)\n"
      ],
      "metadata": {
        "colab": {
          "base_uri": "https://localhost:8080/"
        },
        "id": "b0XrHYFAItkY",
        "outputId": "6ef697b4-b6b2-48ee-ac21-31aa187e9141"
      },
      "execution_count": null,
      "outputs": [
        {
          "output_type": "stream",
          "name": "stdout",
          "text": [
            "{(('Java: The Complete Reference',), ('Java For Dummies',)): 1.0, (('Java For Dummies',), ('Java: The Complete Reference',)): 0.7692307692307692}\n"
          ]
        }
      ]
    },
    {
      "cell_type": "code",
      "source": [
        "# Step 5: Calculate and print results\n",
        "def calculate_support_and_confidence():\n",
        "    # Load data and calculate individual item support\n",
        "    support_values, data = calculate_support('/content/drive/MyDrive/Sen-cv /transaction_data_fixed.csv')\n",
        "\n",
        "    # Filter itemsets with support >= 0.50\n",
        "    filtered_itemset = filter_itemsets(support_values)\n",
        "\n",
        "    # Calculate support for combinations\n",
        "    combination_support_values = calculate_combination_support(data, filtered_itemset)\n",
        "\n",
        "    # Calculate confidence for each rule\n",
        "    confidence_values = calculate_confidence(combination_support_values, support_values)\n",
        "\n",
        "    # Print the results\n",
        "    print(\"\\nSupport values for individual items:\")\n",
        "    for item, support in support_values.items():\n",
        "        print(f\"Item: {item}, Support: {support:.2f}\")\n",
        "\n",
        "    print(\"\\nSupport values for item combinations:\")\n",
        "    for comb, support in combination_support_values.items():\n",
        "        print(f\"Combination: {comb}, Support: {support:.2f}\")\n",
        "\n",
        "    print(\"\\nConfidence values for association rules:\")\n",
        "    for (antecedent, consequent), confidence_value in confidence_values.items():\n",
        "        print(f\"Confidence {antecedent} → {consequent}: {confidence_value:.2f}\")\n",
        "\n",
        "\n",
        "\n",
        "\n"
      ],
      "metadata": {
        "id": "DqnSQ-hoItiS"
      },
      "execution_count": null,
      "outputs": []
    },
    {
      "cell_type": "code",
      "source": [
        "# calculate_support_and_confidence('/content/drive/MyDrive/Sen-cv /best_buy.csv')\n",
        "# csv_file = '/content/drive/MyDrive/Sen-cv/best_buy.csv'  # Replace with the path to your CSV file\n",
        "calculate_support_and_confidence()\n"
      ],
      "metadata": {
        "colab": {
          "base_uri": "https://localhost:8080/"
        },
        "id": "ZGVe6XKUItf8",
        "outputId": "2ccffc17-b17c-49fc-d01b-031405611bfd"
      },
      "execution_count": null,
      "outputs": [
        {
          "output_type": "stream",
          "name": "stdout",
          "text": [
            "Support values for 2-item combinations: {('pear', 'fig'): 0.625, ('pear', 'water'): 0.625}\n",
            "No combinations left with support > 0.5\n",
            "\n",
            "Support values for individual items:\n",
            "Item: apple, Support: 0.38\n",
            "Item: banana, Support: 0.50\n",
            "Item: pear, Support: 0.88\n",
            "Item: fig, Support: 0.75\n",
            "Item: orange, Support: 0.50\n",
            "Item: water, Support: 0.62\n",
            "Item: milk, Support: 0.25\n",
            "Item: kiwi, Support: 0.25\n",
            "\n",
            "Support values for item combinations:\n",
            "\n",
            "Confidence values for association rules:\n"
          ]
        }
      ]
    },
    {
      "cell_type": "code",
      "source": [
        "\n",
        "\n",
        "\n"
      ],
      "metadata": {
        "id": "Zp_--5ZmItd9"
      },
      "execution_count": null,
      "outputs": []
    },
    {
      "cell_type": "code",
      "source": [
        "\n",
        "\n",
        "import pandas as pd\n",
        "from itertools import combinations\n",
        "\n",
        "# Step 1: Load the CSV file and calculate individual item support\n",
        "def calculate_support(data):\n",
        "    item_counts = {}\n",
        "    total_transactions = len(data)\n",
        "\n",
        "    # Iterate over each transaction and count items\n",
        "    for transaction in data['transaction']:\n",
        "        items = transaction.split(',')\n",
        "        for item in items:\n",
        "            item = item.strip()\n",
        "            if item in item_counts:\n",
        "                item_counts[item] += 1\n",
        "            else:\n",
        "                item_counts[item] = 1\n",
        "\n",
        "    # Calculate the support for each item\n",
        "    support = {item: count / total_transactions for item, count in item_counts.items()}\n",
        "    return support\n",
        "\n",
        "# Step 2: Generate combinations of items and calculate support\n",
        "def generate_combinations_and_calculate_support(data, filtered_itemset):\n",
        "    transactions = data['transaction'].apply(lambda x: set([item.strip() for item in x.split(',')])).tolist()\n",
        "    total_transactions = len(transactions)\n",
        "\n",
        "    comb_support = {}\n",
        "    k = 2  # Start with 2-item combinations\n",
        "\n",
        "    while len(filtered_itemset) > 1:\n",
        "        combs = list(combinations(filtered_itemset, k))\n",
        "        current_comb_support = {}\n",
        "\n",
        "        # Calculate support for each combination\n",
        "        for comb in combs:\n",
        "            count = sum(1 for transaction in transactions if set(comb).issubset(transaction))\n",
        "            support = count / total_transactions\n",
        "            if support >= 0.5:\n",
        "                current_comb_support[comb] = support\n",
        "\n",
        "        # If we found combinations with support >= 0.5, store them and filter the itemset\n",
        "        if current_comb_support:\n",
        "            print(f\"Support values for {k}-item combinations: {current_comb_support}\")\n",
        "            comb_support.update(current_comb_support)\n",
        "            filtered_itemset = set(item for comb in current_comb_support.keys() for item in comb)\n",
        "        else:\n",
        "            print(f\"No combinations left with support ≥ 0.5 for {k}-item combinations\")\n",
        "            break\n",
        "\n",
        "        # Stop if only one combination is left with support ≥ 0.5\n",
        "        if len(filtered_itemset) <= k:\n",
        "            print(\"Only one combination is left with support ≥ 0.5. Stopping iteration.\")\n",
        "            break\n",
        "\n",
        "        k += 1  # Move to the next combination size\n",
        "\n",
        "    return comb_support\n",
        "\n",
        "# Step 3: Calculate confidence for itemsets with support ≥ 0.5\n",
        "def calculate_confidence(combination_support, support_values):\n",
        "    confidence = {}\n",
        "\n",
        "    for comb, support_AB in combination_support.items():\n",
        "        for r in range(1, len(comb)):\n",
        "            for antecedent in combinations(comb, r):\n",
        "                consequent = tuple(set(comb) - set(antecedent))\n",
        "\n",
        "                # Handle single-item antecedent lookup\n",
        "                if len(antecedent) == 1:\n",
        "                    antecedent_support = support_values[antecedent[0]]\n",
        "                else:\n",
        "                    antecedent_support = combination_support.get(antecedent, 0)\n",
        "\n",
        "                # Calculate confidence only if antecedent support is available and ≥ 0.5\n",
        "                if antecedent_support >= 0.5:\n",
        "                    conf = support_AB / antecedent_support\n",
        "                    if conf >= 0.5:\n",
        "                        confidence[(antecedent, consequent)] = (conf, support_AB)\n",
        "\n",
        "    return confidence\n",
        "\n",
        "# Step 4: Main function to calculate support and confidence\n",
        "def calculate_support_and_confidence(csv_file):\n",
        "    # Load the data\n",
        "    data = pd.read_csv(csv_file)\n",
        "\n",
        "    # Calculate individual item support\n",
        "    support_values = calculate_support(data)\n",
        "\n",
        "    # Filter items with support ≥ 0.5\n",
        "    filtered_itemset = [item for item, sup in support_values.items() if sup >= 0.5]\n",
        "\n",
        "    # If no item has support ≥ 0.5, return early\n",
        "    if not filtered_itemset:\n",
        "        print(\"No items with support ≥ 0.5\")\n",
        "        return\n",
        "\n",
        "    # Generate combinations and calculate support for each\n",
        "    combination_support_values = generate_combinations_and_calculate_support(data, filtered_itemset)\n",
        "\n",
        "    # Calculate confidence for itemsets with support ≥ 0.5\n",
        "    confidence_values = calculate_confidence(combination_support_values, support_values)\n",
        "\n",
        "    # Print the results for support and confidence both ≥ 0.5\n",
        "    print(\"\\nConfidence and Support values (both ≥ 0.5):\")\n",
        "    for (antecedent, consequent), (conf, support) in confidence_values.items():\n",
        "        print(f\"Confidence {antecedent} → {consequent}: {conf:.2f}, Support: {support:.2f}\")\n",
        "\n",
        "# Example usage:\n",
        "csv_file = r'/content/drive/MyDrive/Sen-cv /transaction_data_fixed.csv'  # Replace with the path to your CSV file\n",
        "calculate_support_and_confidence(csv_file)\n",
        "\n",
        "\n",
        "\n",
        "\n"
      ],
      "metadata": {
        "id": "kVu8PQjaItb0",
        "colab": {
          "base_uri": "https://localhost:8080/"
        },
        "outputId": "40e43487-1897-4d62-d6e8-cc02df981f81"
      },
      "execution_count": null,
      "outputs": [
        {
          "output_type": "stream",
          "name": "stdout",
          "text": [
            "Support values for 2-item combinations: {('pear', 'fig'): 0.625, ('pear', 'water'): 0.625, ('fig', 'water'): 0.5}\n",
            "Support values for 3-item combinations: {('fig', 'water', 'pear'): 0.5}\n",
            "Only one combination is left with support ≥ 0.5. Stopping iteration.\n",
            "\n",
            "Confidence and Support values (both ≥ 0.5):\n",
            "Confidence ('pear',) → ('fig',): 0.71, Support: 0.62\n",
            "Confidence ('fig',) → ('pear',): 0.83, Support: 0.62\n",
            "Confidence ('pear',) → ('water',): 0.71, Support: 0.62\n",
            "Confidence ('water',) → ('pear',): 1.00, Support: 0.62\n",
            "Confidence ('fig',) → ('water',): 0.67, Support: 0.50\n",
            "Confidence ('water',) → ('fig',): 0.80, Support: 0.50\n",
            "Confidence ('fig',) → ('water', 'pear'): 0.67, Support: 0.50\n",
            "Confidence ('water',) → ('fig', 'pear'): 0.80, Support: 0.50\n",
            "Confidence ('pear',) → ('fig', 'water'): 0.57, Support: 0.50\n",
            "Confidence ('fig', 'water') → ('pear',): 1.00, Support: 0.50\n"
          ]
        }
      ]
    },
    {
      "cell_type": "code",
      "source": [],
      "metadata": {
        "id": "a2VlaQrsItZn"
      },
      "execution_count": null,
      "outputs": []
    },
    {
      "cell_type": "code",
      "source": [],
      "metadata": {
        "id": "A4nUeHgxItXS"
      },
      "execution_count": null,
      "outputs": []
    }
  ]
}